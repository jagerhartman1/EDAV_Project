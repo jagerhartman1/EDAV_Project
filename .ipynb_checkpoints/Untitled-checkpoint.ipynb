{
 "cells": [
  {
   "cell_type": "code",
   "execution_count": 15,
   "metadata": {
    "collapsed": false
   },
   "outputs": [],
   "source": [
    "import re\n",
    "import os\n",
    "import numpy as np\n",
    "import pandas as pd\n",
    "\n",
    "def parse_file(f, d):\n",
    "    \"\"\"\n",
    "    Parameters\n",
    "    ----------\n",
    "    f         :     string, filename to be read\n",
    "    \n",
    "    d         :     dictionary where results are to be stored\n",
    "    \n",
    "    whitelist :     list of types of substrings which are accepted\n",
    "    \n",
    "    \n",
    "    Returns\n",
    "    -------\n",
    "    d         :     updated dictionary\n",
    "    \"\"\"\n",
    "    \n",
    "    with open('./development_set/%s' %f, 'r') as myfile:\n",
    "        speech = myfile.read().replace('\\n', '')\n",
    "        new_speech = re.sub(r'[^\\w]\\ ', '', speech)\n",
    "        \n",
    "        list_of_words = new_speech.strip().lower().split(' ')\n",
    "        for word in list_of_words:\n",
    "            if word not in d.keys():\n",
    "                d[word] = 1\n",
    "            else:\n",
    "                d[word] += 1\n",
    "    return d\n",
    "#R/D -> Repbulican/Democrat\n",
    "#O/M -> Omit/Mention\n",
    "#Y/N -> Yes/No\n",
    "\n",
    "#Declare Dictionaries\n",
    "word_dict_RN = {}\n",
    "word_dict_RY = {}\n",
    "word_dict_DN = {}\n",
    "word_dict_DY = {}\n",
    "\n",
    "#Initialize Vars\n",
    "indir = './development_set'\n",
    "\n",
    "#Iterate over all files where each file is a speech\n",
    "for filename in os.listdir(indir):\n",
    "    if filename.endswith(\"RON.txt\") or filename.endswith(\"RMN.txt\"):\n",
    "        word_dict_RN = parse_file(filename, word_dict_RN)\n",
    "    if filename.endswith(\"ROY.txt\") or filename.endswith(\"RMY.txt\"):\n",
    "        word_dict_RY = parse_file(filename, word_dict_RY)\n",
    "    if filename.endswith(\"DON.txt\") or filename.endswith(\"DMN.txt\"):\n",
    "        word_dict_DN = parse_file(filename, word_dict_DN)\n",
    "    if filename.endswith(\"DOY.txt\") or filename.endswith(\"DMY.txt\"):\n",
    "        word_dict_DY = parse_file(filename, word_dict_DY)\n",
    "\n",
    "\n",
    "\n",
    "\n"
   ]
  },
  {
   "cell_type": "code",
   "execution_count": 14,
   "metadata": {
    "collapsed": false
   },
   "outputs": [
    {
     "ename": "KeyError",
     "evalue": "'The'",
     "output_type": "error",
     "traceback": [
      "\u001b[0;31m---------------------------------------------------------------------------\u001b[0m",
      "\u001b[0;31mKeyError\u001b[0m                                  Traceback (most recent call last)",
      "\u001b[0;32m<ipython-input-14-3dd1e7d084bd>\u001b[0m in \u001b[0;36m<module>\u001b[0;34m()\u001b[0m\n\u001b[0;32m----> 1\u001b[0;31m \u001b[1;32mprint\u001b[0m \u001b[0mword_dict_DY\u001b[0m\u001b[1;33m[\u001b[0m\u001b[1;34m'The'\u001b[0m\u001b[1;33m]\u001b[0m\u001b[1;33m\u001b[0m\u001b[0m\n\u001b[0m",
      "\u001b[0;31mKeyError\u001b[0m: 'The'"
     ]
    }
   ],
   "source": [
    "print word_dict_DY['The']"
   ]
  }
 ],
 "metadata": {
  "kernelspec": {
   "display_name": "Python 2",
   "language": "python",
   "name": "python2"
  },
  "language_info": {
   "codemirror_mode": {
    "name": "ipython",
    "version": 2
   },
   "file_extension": ".py",
   "mimetype": "text/x-python",
   "name": "python",
   "nbconvert_exporter": "python",
   "pygments_lexer": "ipython2",
   "version": "2.7.13"
  }
 },
 "nbformat": 4,
 "nbformat_minor": 2
}
